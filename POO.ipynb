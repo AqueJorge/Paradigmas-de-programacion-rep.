{
 "cells": [
  {
   "cell_type": "code",
   "execution_count": 117,
   "metadata": {},
   "outputs": [],
   "source": [
    "from abc import ABC, abstractmethod"
   ]
  },
  {
   "cell_type": "code",
   "execution_count": 118,
   "metadata": {},
   "outputs": [],
   "source": [
    "#Zoo\n",
    "class animals:\n",
    "    def __init__(self, specie, name, age):\n",
    "        self.name= name\n",
    "        self.specie= specie\n",
    "        self.age= age\n",
    "    def description(self):\n",
    "        return \"The {} is called {} and is {} years old.\".format(self.specie, self.name, self.age)\n",
    "class liberacion(animals):\n",
    "    def filtrodeliberacion(self):\n",
    "        if self.age >= 5:\n",
    "            return \"The animal have to be liberated\"\n",
    "        else:\n",
    "            return \"When the animal turns 5, it must be released in the wild to be replaced by another\"\n",
    "class status(animals):\n",
    "    def status2(self, social, entretenimento, espacio, salud):\n",
    "        self.social=social\n",
    "        self.__entretenimento=entretenimento\n",
    "        self.espacio=espacio\n",
    "        self.salud=salud\n",
    "    def description(self):\n",
    "        return \"{} has a {} social status, a {} entertainment status, a {} space status and a {} health status\".format(self.name,self.social,self.__entretenimento,self.espacio,self.salud)\n",
    "    \n",
    "    \n",
    "    def recomendaciones(self):\n",
    "        if self.social==  'Low':\n",
    "            print(\"The Social status has to be improve\")\n",
    "            \n",
    "        if self.__entretenimento==  'Low' :\n",
    "            print(\"The entertainment status has to be improve\")\n",
    "            \n",
    "        if self.espacio==  'Low':\n",
    "            print(\"The space status has to be improve\")\n",
    "            \n",
    "        if self.salud==  'Low':\n",
    "            print(\"The health status has to be improve\")\n",
    "        \n",
    "    \n",
    "leon=animals(\"Leon\",\"Simba\", 8)"
   ]
  },
  {
   "cell_type": "code",
   "execution_count": 119,
   "metadata": {},
   "outputs": [
    {
     "data": {
      "text/plain": [
       "'Simba has a Stable social status, a Low entertainment status, a Great space status and a Low health status'"
      ]
     },
     "execution_count": 119,
     "metadata": {},
     "output_type": "execute_result"
    }
   ],
   "source": [
    "#leon=animals(\"Leon\",\"Simba\", 8)\n",
    "#leon.description()\n",
    "\n",
    "\n",
    "#leon2=liberacion(\"Leon\",\"Simba\", 4)\n",
    "#leon2.filtrodeliberacion()\n",
    "\n",
    "\n",
    "leon2=status(\"Leon\",\"Simba\", 4)\n",
    "leon2.status2(\"Stable\",\"Low\",\"Great\",\"Low\")\n",
    "leon2.description()\n",
    "#leon2.recomendaciones()\n",
    "\n",
    "\n",
    "#"
   ]
  },
  {
   "cell_type": "code",
   "execution_count": 2,
   "metadata": {},
   "outputs": [
    {
     "ename": "SyntaxError",
     "evalue": "invalid syntax (<ipython-input-2-838958f2c65c>, line 1)",
     "output_type": "error",
     "traceback": [
      "\u001b[1;36m  File \u001b[1;32m\"<ipython-input-2-838958f2c65c>\"\u001b[1;36m, line \u001b[1;32m1\u001b[0m\n\u001b[1;33m    export SPARK_HOME=/home/asherif844/spark-2.2.0-bin-hadoop2.7\u001b[0m\n\u001b[1;37m                    ^\u001b[0m\n\u001b[1;31mSyntaxError\u001b[0m\u001b[1;31m:\u001b[0m invalid syntax\n"
     ]
    }
   ],
   "source": [
    "export SPARK_HOME=/home/asherif844/spark-2.2.0-bin-hadoop2.7\n",
    "export PYSPARK_PYTHON=python3\n",
    "export PYSPARK_DRIVER_PYTHON=jupyter\n",
    "export PYSPARK_DRIVER_PYTHON_OPTS=\"notebook\"\n",
    "$SPARK_HOME/bin/pyspark"
   ]
  },
  {
   "cell_type": "code",
   "execution_count": null,
   "metadata": {},
   "outputs": [],
   "source": [
    "export SPARK_HOME=/home/asherif844/spark-2.2.0-bin-hadoop2.7\n",
    "export PYSPARK_PYTHON=python3\n",
    "export PYSPARK_DRIVER_PYTHON=jupyter\n",
    "export PYSPARK_DRIVER_PYTHON_OPTS=\"notebook\"\n",
    "$SPARK_HOME/bin/pyspark"
   ]
  }
 ],
 "metadata": {
  "kernelspec": {
   "display_name": "Python 3",
   "language": "python",
   "name": "python3"
  },
  "language_info": {
   "codemirror_mode": {
    "name": "ipython",
    "version": 3
   },
   "file_extension": ".py",
   "mimetype": "text/x-python",
   "name": "python",
   "nbconvert_exporter": "python",
   "pygments_lexer": "ipython3",
   "version": "3.7.1"
  }
 },
 "nbformat": 4,
 "nbformat_minor": 2
}
